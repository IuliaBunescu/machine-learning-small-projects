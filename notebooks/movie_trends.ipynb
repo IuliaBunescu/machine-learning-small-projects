{
 "cells": [
  {
   "attachments": {},
   "cell_type": "markdown",
   "metadata": {},
   "source": [
    "# Movie Genre Trends on IMDB over the years"
   ]
  },
  {
   "attachments": {},
   "cell_type": "markdown",
   "metadata": {},
   "source": [
    "### Create dataset as per genre ratings and review numbers"
   ]
  },
  {
   "attachments": {},
   "cell_type": "markdown",
   "metadata": {},
   "source": [
    "The created dataset is called *movie_data_single_genre*, and can be directly downloaded from here https://drive.google.com/file/d/1FeYNXyVxjiIxYYkywCJ_jk6Lt7sefpnX/view?usp=sharing "
   ]
  },
  {
   "cell_type": "code",
   "execution_count": 117,
   "metadata": {},
   "outputs": [],
   "source": [
    "import pandas as pd\n",
    "import matplotlib.pyplot as plt\n",
    "import numpy\n",
    "from sklearn.metrics import r2_score"
   ]
  },
  {
   "cell_type": "code",
   "execution_count": 61,
   "metadata": {},
   "outputs": [],
   "source": [
    "movie_general_data = pd.read_table('../data/general_data.tsv', delimiter='\\t', usecols=['tconst','titleType', 'primaryTitle','genres', 'startYear'], dtype={'tconst':str,'titleType': str, 'primaryTitle':str, 'genres':object, 'startYear': object})\n",
    "movie_rating_data = pd.read_table('../data/rating_data.tsv', delimiter='\\t', usecols=['tconst','averageRating','numVotes'], dtype={'tconst':str,'averageRating':float, 'numVotes': int})\n",
    "movie_data = pd.merge(movie_general_data, movie_rating_data, on='tconst', how='inner')\n",
    "\n",
    "movie_data.query(expr = \"titleType == 'movie'\", inplace= True)\n",
    "\n",
    "movie_data.drop(columns = ['tconst', 'titleType'], inplace= True)\n",
    "movie_data.reset_index(inplace = True, drop = True)"
   ]
  },
  {
   "cell_type": "code",
   "execution_count": 261,
   "metadata": {},
   "outputs": [
    {
     "data": {
      "text/html": [
       "<div>\n",
       "<style scoped>\n",
       "    .dataframe tbody tr th:only-of-type {\n",
       "        vertical-align: middle;\n",
       "    }\n",
       "\n",
       "    .dataframe tbody tr th {\n",
       "        vertical-align: top;\n",
       "    }\n",
       "\n",
       "    .dataframe thead th {\n",
       "        text-align: right;\n",
       "    }\n",
       "</style>\n",
       "<table border=\"1\" class=\"dataframe\">\n",
       "  <thead>\n",
       "    <tr style=\"text-align: right;\">\n",
       "      <th></th>\n",
       "      <th>primaryTitle</th>\n",
       "      <th>startYear</th>\n",
       "      <th>genres</th>\n",
       "      <th>averageRating</th>\n",
       "      <th>numVotes</th>\n",
       "    </tr>\n",
       "  </thead>\n",
       "  <tbody>\n",
       "    <tr>\n",
       "      <th>0</th>\n",
       "      <td>Miss Jerry</td>\n",
       "      <td>1894</td>\n",
       "      <td>Romance</td>\n",
       "      <td>5.3</td>\n",
       "      <td>204</td>\n",
       "    </tr>\n",
       "    <tr>\n",
       "      <th>1</th>\n",
       "      <td>The Corbett-Fitzsimmons Fight</td>\n",
       "      <td>1897</td>\n",
       "      <td>Documentary</td>\n",
       "      <td>5.3</td>\n",
       "      <td>466</td>\n",
       "    </tr>\n",
       "    <tr>\n",
       "      <th>2</th>\n",
       "      <td>The Corbett-Fitzsimmons Fight</td>\n",
       "      <td>1897</td>\n",
       "      <td>News</td>\n",
       "      <td>5.3</td>\n",
       "      <td>466</td>\n",
       "    </tr>\n",
       "    <tr>\n",
       "      <th>3</th>\n",
       "      <td>The Corbett-Fitzsimmons Fight</td>\n",
       "      <td>1897</td>\n",
       "      <td>Sport</td>\n",
       "      <td>5.3</td>\n",
       "      <td>466</td>\n",
       "    </tr>\n",
       "    <tr>\n",
       "      <th>4</th>\n",
       "      <td>The Story of the Kelly Gang</td>\n",
       "      <td>1906</td>\n",
       "      <td>Action</td>\n",
       "      <td>6.0</td>\n",
       "      <td>820</td>\n",
       "    </tr>\n",
       "    <tr>\n",
       "      <th>5</th>\n",
       "      <td>The Story of the Kelly Gang</td>\n",
       "      <td>1906</td>\n",
       "      <td>Adventure</td>\n",
       "      <td>6.0</td>\n",
       "      <td>820</td>\n",
       "    </tr>\n",
       "    <tr>\n",
       "      <th>6</th>\n",
       "      <td>The Story of the Kelly Gang</td>\n",
       "      <td>1906</td>\n",
       "      <td>Biography</td>\n",
       "      <td>6.0</td>\n",
       "      <td>820</td>\n",
       "    </tr>\n",
       "    <tr>\n",
       "      <th>7</th>\n",
       "      <td>The Prodigal Son</td>\n",
       "      <td>1907</td>\n",
       "      <td>Drama</td>\n",
       "      <td>4.4</td>\n",
       "      <td>20</td>\n",
       "    </tr>\n",
       "    <tr>\n",
       "      <th>8</th>\n",
       "      <td>Robbery Under Arms</td>\n",
       "      <td>1907</td>\n",
       "      <td>Drama</td>\n",
       "      <td>4.3</td>\n",
       "      <td>24</td>\n",
       "    </tr>\n",
       "    <tr>\n",
       "      <th>9</th>\n",
       "      <td>Hamlet</td>\n",
       "      <td>1908</td>\n",
       "      <td>Drama</td>\n",
       "      <td>2.8</td>\n",
       "      <td>26</td>\n",
       "    </tr>\n",
       "  </tbody>\n",
       "</table>\n",
       "</div>"
      ],
      "text/plain": [
       "                    primaryTitle  startYear       genres  averageRating  \\\n",
       "0                     Miss Jerry       1894      Romance            5.3   \n",
       "1  The Corbett-Fitzsimmons Fight       1897  Documentary            5.3   \n",
       "2  The Corbett-Fitzsimmons Fight       1897         News            5.3   \n",
       "3  The Corbett-Fitzsimmons Fight       1897        Sport            5.3   \n",
       "4    The Story of the Kelly Gang       1906       Action            6.0   \n",
       "5    The Story of the Kelly Gang       1906    Adventure            6.0   \n",
       "6    The Story of the Kelly Gang       1906    Biography            6.0   \n",
       "7               The Prodigal Son       1907        Drama            4.4   \n",
       "8             Robbery Under Arms       1907        Drama            4.3   \n",
       "9                         Hamlet       1908        Drama            2.8   \n",
       "\n",
       "   numVotes  \n",
       "0       204  \n",
       "1       466  \n",
       "2       466  \n",
       "3       466  \n",
       "4       820  \n",
       "5       820  \n",
       "6       820  \n",
       "7        20  \n",
       "8        24  \n",
       "9        26  "
      ]
     },
     "metadata": {},
     "output_type": "display_data"
    }
   ],
   "source": [
    "movie_data.dropna(inplace=True, subset=['startYear', 'averageRating','numVotes'])\n",
    "\n",
    "null_string = '\\\\' + 'N'\n",
    "movie_data.query(expr = 'genres != @null_string & startYear != @null_string', inplace= True)\n",
    "\n",
    "# turning the year column into int\n",
    "movie_data['startYear'] = movie_data['startYear'].astype(int) \n",
    "\n",
    "if isinstance(movie_data['genres'][0], str) :\n",
    "    movie_data['genres'] = movie_data['genres'].map(lambda genre: genre.split(','))\n",
    "\n",
    "movie_data_single_genre = movie_data.explode('genres', ignore_index= True)\n",
    "\n",
    "movie_data_single_genre.to_csv('../data/movie_data_single_genre.csv') \n",
    "\n",
    "display(movie_data_single_genre.head(10))\n"
   ]
  },
  {
   "attachments": {},
   "cell_type": "markdown",
   "metadata": {},
   "source": [
    "### Analysis on a specific genre of movie"
   ]
  },
  {
   "attachments": {},
   "cell_type": "markdown",
   "metadata": {},
   "source": [
    "For example analysis, we start with only one gere, Romance. To obtain relevant data on an yearly basis, a weighted average will be computed for each year. The *averageRating* will be the variables, and the *numVotes* will serve as the weights. This way, we obtain a more realisting indices on the quality of the movie."
   ]
  },
  {
   "cell_type": "code",
   "execution_count": 202,
   "metadata": {},
   "outputs": [],
   "source": [
    "def weighted_average(dataframe, value, weight):\n",
    "    val = dataframe[value]\n",
    "    wt = dataframe[weight]\n",
    "    weighted_rating = (val * wt).sum() / wt.sum()\n",
    "\n",
    "    return weighted_rating"
   ]
  },
  {
   "cell_type": "code",
   "execution_count": 263,
   "metadata": {},
   "outputs": [
    {
     "data": {
      "image/png": "[encoded data removed]",
      "text/plain": [
       "<Figure size 640x480 with 1 Axes>"
      ]
     },
     "metadata": {},
     "output_type": "display_data"
    },
    {
     "name": "stdout",
     "output_type": "stream",
     "text": [
      "Coef of correlation:0.5340069370481637\n"
     ]
    }
   ],
   "source": [
    "romance = movie_data_single_genre.query(expr = \"genres == 'Romance'\")\n",
    "\n",
    "rating = romance.groupby('startYear').apply(weighted_average, 'averageRating', 'numVotes')\n",
    "\n",
    "x = rating.index\n",
    "y = rating.values\n",
    "\n",
    "mymodel = numpy.poly1d(numpy.polyfit(x, y, 3))\n",
    "myline = numpy.linspace(x[0],x[x.size-1], 1000)\n",
    "\n",
    "plt.scatter(x, y)\n",
    "plt.plot(myline, mymodel(myline))\n",
    "plt.show()\n",
    "\n",
    "r = r2_score(y, mymodel(x))\n",
    "\n",
    "print('Coef of correlation:{}'.format(r))"
   ]
  },
  {
   "attachments": {},
   "cell_type": "markdown",
   "metadata": {},
   "source": [
    "It can be seen that the coeficinet of correlation is close to 0.5, witch means we can make predicitions, but not very accurate ones. However, a conclusion that can be drawn is that the highest rated romance movies were released between 1940 and 1960. Some of which can be seen below."
   ]
  },
  {
   "cell_type": "code",
   "execution_count": 266,
   "metadata": {},
   "outputs": [
    {
     "data": {
      "text/html": [
       "<div>\n",
       "<style scoped>\n",
       "    .dataframe tbody tr th:only-of-type {\n",
       "        vertical-align: middle;\n",
       "    }\n",
       "\n",
       "    .dataframe tbody tr th {\n",
       "        vertical-align: top;\n",
       "    }\n",
       "\n",
       "    .dataframe thead th {\n",
       "        text-align: right;\n",
       "    }\n",
       "</style>\n",
       "<table border=\"1\" class=\"dataframe\">\n",
       "  <thead>\n",
       "    <tr style=\"text-align: right;\">\n",
       "      <th></th>\n",
       "      <th>primaryTitle</th>\n",
       "      <th>startYear</th>\n",
       "      <th>genres</th>\n",
       "      <th>averageRating</th>\n",
       "      <th>numVotes</th>\n",
       "    </tr>\n",
       "  </thead>\n",
       "  <tbody>\n",
       "    <tr>\n",
       "      <th>46352</th>\n",
       "      <td>Meine 99 Bräute</td>\n",
       "      <td>1958</td>\n",
       "      <td>Romance</td>\n",
       "      <td>9.2</td>\n",
       "      <td>20</td>\n",
       "    </tr>\n",
       "    <tr>\n",
       "      <th>181206</th>\n",
       "      <td>Humsafar</td>\n",
       "      <td>1953</td>\n",
       "      <td>Romance</td>\n",
       "      <td>9.0</td>\n",
       "      <td>11</td>\n",
       "    </tr>\n",
       "    <tr>\n",
       "      <th>40264</th>\n",
       "      <td>Racing Blood</td>\n",
       "      <td>1954</td>\n",
       "      <td>Romance</td>\n",
       "      <td>8.9</td>\n",
       "      <td>17</td>\n",
       "    </tr>\n",
       "    <tr>\n",
       "      <th>206279</th>\n",
       "      <td>A Sinful Life</td>\n",
       "      <td>1957</td>\n",
       "      <td>Romance</td>\n",
       "      <td>8.7</td>\n",
       "      <td>9</td>\n",
       "    </tr>\n",
       "    <tr>\n",
       "      <th>35064</th>\n",
       "      <td>The Naked and the Wicked</td>\n",
       "      <td>1951</td>\n",
       "      <td>Romance</td>\n",
       "      <td>8.6</td>\n",
       "      <td>33</td>\n",
       "    </tr>\n",
       "    <tr>\n",
       "      <th>122924</th>\n",
       "      <td>The Counterfeit Coin</td>\n",
       "      <td>1955</td>\n",
       "      <td>Romance</td>\n",
       "      <td>8.6</td>\n",
       "      <td>2933</td>\n",
       "    </tr>\n",
       "    <tr>\n",
       "      <th>155503</th>\n",
       "      <td>Las campanas de Teresa</td>\n",
       "      <td>1957</td>\n",
       "      <td>Romance</td>\n",
       "      <td>8.6</td>\n",
       "      <td>11</td>\n",
       "    </tr>\n",
       "    <tr>\n",
       "      <th>165842</th>\n",
       "      <td>Do Sitare</td>\n",
       "      <td>1951</td>\n",
       "      <td>Romance</td>\n",
       "      <td>8.6</td>\n",
       "      <td>11</td>\n",
       "    </tr>\n",
       "    <tr>\n",
       "      <th>167368</th>\n",
       "      <td>Anakku Sazali</td>\n",
       "      <td>1956</td>\n",
       "      <td>Romance</td>\n",
       "      <td>8.6</td>\n",
       "      <td>77</td>\n",
       "    </tr>\n",
       "    <tr>\n",
       "      <th>174514</th>\n",
       "      <td>Nili</td>\n",
       "      <td>1950</td>\n",
       "      <td>Romance</td>\n",
       "      <td>8.6</td>\n",
       "      <td>12</td>\n",
       "    </tr>\n",
       "  </tbody>\n",
       "</table>\n",
       "</div>"
      ],
      "text/plain": [
       "                    primaryTitle  startYear   genres  averageRating  numVotes\n",
       "46352            Meine 99 Bräute       1958  Romance            9.2        20\n",
       "181206                  Humsafar       1953  Romance            9.0        11\n",
       "40264               Racing Blood       1954  Romance            8.9        17\n",
       "206279             A Sinful Life       1957  Romance            8.7         9\n",
       "35064   The Naked and the Wicked       1951  Romance            8.6        33\n",
       "122924      The Counterfeit Coin       1955  Romance            8.6      2933\n",
       "155503    Las campanas de Teresa       1957  Romance            8.6        11\n",
       "165842                 Do Sitare       1951  Romance            8.6        11\n",
       "167368             Anakku Sazali       1956  Romance            8.6        77\n",
       "174514                      Nili       1950  Romance            8.6        12"
      ]
     },
     "metadata": {},
     "output_type": "display_data"
    }
   ],
   "source": [
    "display(romance.loc[(romance['startYear'] > 1940) & (romance['startYear']<1960)].nlargest(10, 'averageRating'))"
   ]
  },
  {
   "attachments": {},
   "cell_type": "markdown",
   "metadata": {},
   "source": [
    "### Prediction"
   ]
  },
  {
   "attachments": {},
   "cell_type": "markdown",
   "metadata": {},
   "source": [
    "Making a prediction for a year that does not have any romantic movies in the dataset. However if the year is already whithin the dataset, its corresponding average rating will be displayed. "
   ]
  },
  {
   "cell_type": "code",
   "execution_count": 300,
   "metadata": {},
   "outputs": [
    {
     "name": "stdout",
     "output_type": "stream",
     "text": [
      "The predicted average rating for a romantic movie from 1907 is 5.6.\n"
     ]
    }
   ],
   "source": [
    "year = 1907\n",
    "\n",
    "if year in set(romance['startYear']):\n",
    "    prediction = round(rating[year])\n",
    "    print('The calculated average rating for a romantic movie from {} is {}.'.format(year, prediction)) \n",
    "else:\n",
    "    prediction = round(mymodel(year), 1)\n",
    "    print('The predicted average rating for a romantic movie from {} is {}.'.format(year, prediction))\n",
    "\n"
   ]
  },
  {
   "cell_type": "code",
   "execution_count": null,
   "metadata": {},
   "outputs": [],
   "source": []
  }
 ],
 "metadata": {
  "kernelspec": {
   "display_name": "Python 3",
   "language": "python",
   "name": "python3"
  },
  "language_info": {
   "codemirror_mode": {
    "name": "ipython",
    "version": 3
   },
   "file_extension": ".py",
   "mimetype": "text/x-python",
   "name": "python",
   "nbconvert_exporter": "python",
   "pygments_lexer": "ipython3",
   "version": "3.10.4"
  },
  "orig_nbformat": 4
 },
 "nbformat": 4,
 "nbformat_minor": 2
}
